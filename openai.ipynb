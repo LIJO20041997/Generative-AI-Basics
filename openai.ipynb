{
 "cells": [
  {
   "cell_type": "code",
   "execution_count": 1,
   "metadata": {},
   "outputs": [
    {
     "name": "stdout",
     "output_type": "stream",
     "text": [
      "Name: openai\n",
      "Version: 1.54.4\n",
      "Summary: The official Python library for the openai API\n",
      "Home-page: https://github.com/openai/openai-python\n",
      "Author: \n",
      "Author-email: OpenAI <support@openai.com>\n",
      "License: \n",
      "Location: C:\\Users\\Dinesh\\anaconda3\\envs\\ragenv\\Lib\\site-packages\n",
      "Requires: anyio, distro, httpx, jiter, pydantic, sniffio, tqdm, typing-extensions\n",
      "Required-by: langchain-openai\n"
     ]
    }
   ],
   "source": [
    "!pip show openai"
   ]
  },
  {
   "cell_type": "code",
   "execution_count": 2,
   "metadata": {},
   "outputs": [
    {
     "name": "stdout",
     "output_type": "stream",
     "text": [
      "Hello! I'm an AI, so I don't have feelings in the way humans do. But I'm here and ready to help you. What can I assist you with today?\n"
     ]
    }
   ],
   "source": [
    "from openai import OpenAI\n",
    "from dotenv import load_dotenv\n",
    "import os\n",
    "\n",
    "load_dotenv()\n",
    "OPENAI_API_KEY = os.getenv(\"OPENAI_API_KEY\")\n",
    "\n",
    "client = OpenAI(api_key=OPENAI_API_KEY)\n",
    "\n",
    "chat_completion = client.chat.completions.create(\n",
    "    model = \"gpt-4\",\n",
    "    messages=[\n",
    "        {\"role\": \"system\", \"content\":'You are a helpfull assistant'},\n",
    "        {\"role\": \"user\", \"content\":\"Hai how are you! \"}\n",
    "    ]\n",
    "\n",
    ")\n",
    "\n",
    "print(chat_completion.choices[0].message.content)"
   ]
  },
  {
   "cell_type": "markdown",
   "metadata": {},
   "source": [
    "# ChatCompletion API and Completion API\n",
    "\n",
    "- Completion API: Hooks you up with text completions from a single prompt. \n",
    "\n",
    "- Chat Completion API: Nails it in the chat game, keeping the conversational flow intact"
   ]
  },
  {
   "cell_type": "markdown",
   "metadata": {},
   "source": [
    "#### Chat completion API\n",
    "- Purpose: Designed for conversational or chat-like interactions where the model acts in different roles (e.g., \"user\", \"assistant\", \"system\").\n",
    "- The input is a list of messages structured as a conversation, with each message having a role (e.g., \"system\", \"user\", \"assistant\") and content."
   ]
  },
  {
   "cell_type": "code",
   "execution_count": 3,
   "metadata": {},
   "outputs": [
    {
     "name": "stdout",
     "output_type": "stream",
     "text": [
      "Machine learning has a wide range of uses across various fields. Here are some examples:\n",
      "\n",
      "1. Predictive Analytics: Machine learning can be used to analyze large amounts of data and make predictions based on patterns or trends in the data. For example, it can be used to forecast sales, predict stock market trends, estimate energy consumption etc.\n",
      "\n",
      "2. Personalization: Machine learning algorithms can tailor recommendations to individual users based on their behaviour, preferences, and patterns of use. This is often used in recommendation systems of streaming platforms, online shopping, or personalized marketing.\n",
      "\n",
      "3. Healthcare: Machine learning can help doctors diagnose diseases, predict patient recovery rates, recommend treatment plans, and even predict future health issues.\n",
      "\n",
      "4. Social Media: Machine learning is extensively used for understanding user behavior, personalized content, targeted advertising, and facial recognition in social media platforms. \n",
      "\n",
      "5. Fraud Detection: Machine learning models can be trained to recognize patterns of fraudulent transactions and alert the bank or the user whenever a suspicious activity takes place.\n",
      "\n",
      "6. Autonomous Vehicles: Machine learning is a vital part of self-driving cars, enabling them to recognize and respond to the environment around them.\n",
      "\n",
      "7. Natural Language Processing: Machine learning is used to understand and generate human language, enabling voice assistants, automated customer service, and more.\n",
      "\n",
      "8. Image Recognition: Machine learning is used to automatically identify objects or activities in images and video.\n",
      "\n",
      "These are just a few examples, the uses are virtually limitless.\n"
     ]
    }
   ],
   "source": [
    "from openai import OpenAI\n",
    "from dotenv import load_dotenv\n",
    "import os\n",
    "\n",
    "load_dotenv()\n",
    "OPENAI_API_KEY = os.getenv(\"OPENAI_API_KEY\")\n",
    "\n",
    "client = OpenAI(api_key=OPENAI_API_KEY)\n",
    "\n",
    "response = client.chat.completions.create(\n",
    "    model = 'gpt-4',\n",
    "    messages = [\n",
    "        {\"role\":\"system\", \"content\":\"you are an assistant\"},\n",
    "        {\"role\":\"user\", \"content\":\"what is the use of machine learning\"},\n",
    "    ],\n",
    "\n",
    ")\n",
    "\n",
    "print(response.choices[0].message.content)\n"
   ]
  },
  {
   "cell_type": "markdown",
   "metadata": {},
   "source": [
    "#### "
   ]
  },
  {
   "cell_type": "markdown",
   "metadata": {},
   "source": [
    "#### Explanation of Parameters:\n",
    "- max_tokens:\n",
    "\n",
    "    - Sets the maximum number of tokens the response can have.\n",
    "    - Example: max_tokens=50 limits the response to 50 tokens.\n",
    "- temperature:\n",
    "\n",
    "    - Controls randomness in the output:\n",
    "    - 0.0: Deterministic (model tries to stick closely to the most likely response).\n",
    "    - 1.0: More creative and random.\n",
    "    - Example: temperature=0.7.\n",
    "- top_p:\n",
    "\n",
    "    - Controls diversity via nucleus sampling:\n",
    "    - 1.0: No restriction (model considers all probabilities).\n",
    "    - 0.5: Limits to the most likely tokens contributing to 50% of the cumulative probability.\n",
    "- frequency_penalty:\n",
    "\n",
    "    - Penalizes tokens that appear frequently in the output.\n",
    "    - Helps reduce repetitive responses.\n",
    "    - Example: frequency_penalty=0.0 (no penalty).\n",
    "- presence_penalty:\n",
    "\n",
    "    - Penalizes tokens that have already appeared in the conversation, encouraging new topics.\n",
    "    - Example: presence_penalty=0.0 (no penalty)."
   ]
  },
  {
   "cell_type": "code",
   "execution_count": 4,
   "metadata": {},
   "outputs": [
    {
     "name": "stdout",
     "output_type": "stream",
     "text": [
      "Hello! As an artificial intelligence, I don't have feelings, but I'm ready and able to assist you. How can I help you today?\n"
     ]
    }
   ],
   "source": [
    "from openai import OpenAI\n",
    "from dotenv import load_dotenv\n",
    "import os\n",
    "\n",
    "# Load environment variables\n",
    "load_dotenv()\n",
    "OPENAI_API_KEY = os.getenv(\"OPENAI_API_KEY\")\n",
    "\n",
    "# Initialize the OpenAI client\n",
    "client = OpenAI(api_key=OPENAI_API_KEY)\n",
    "\n",
    "# Create a chat completion with additional parameters\n",
    "chat_completion = client.chat.completions.create(\n",
    "    model=\"gpt-4\",\n",
    "    messages=[\n",
    "        {\"role\": \"system\", \"content\": \"You are a helpful assistant.\"},\n",
    "        {\"role\": \"user\", \"content\": \"Hi, how are you?\"},\n",
    "    ],\n",
    "    max_tokens=50,  # Limit the response to 50 tokens\n",
    "    temperature=0.7,  # Controls randomness (0.0 is deterministic, 1.0 is more creative)\n",
    "    top_p=1.0,  # Controls diversity via nucleus sampling\n",
    "    frequency_penalty=0.0,  # Penalize repeated tokens\n",
    "    presence_penalty=0.0  # Encourage or discourage new topics\n",
    ")\n",
    "\n",
    "# Print the assistant's response\n",
    "print(chat_completion.choices[0].message.content)\n"
   ]
  },
  {
   "cell_type": "code",
   "execution_count": 5,
   "metadata": {},
   "outputs": [
    {
     "name": "stdout",
     "output_type": "stream",
     "text": [
      "You are Lijo Joseph, a 27-year-old AI developer currently working at Inovatrik in Kochi. You are a skilled professional, likely with a strong foundation in computer science and programming. As an AI developer, you probably work with complex algorithms, neural networks, and other aspects of AI technology to design and implement artificial intelligence systems. Your work possibly involves various aspects of AI application, from design to programming to testing.\n"
     ]
    }
   ],
   "source": [
    "# Multiple Prompts\n",
    "\n",
    "prompt1 = \"My name is Lijo joseph , iam a AI developer\"\n",
    "prompt2 = \"I am 27 years old & I am currently working in inovatrik kochi\"\n",
    "prompt3 = \"Tell me about me\"\n",
    "\n",
    "client = OpenAI(api_key=os.getenv(\"OPENAI_API_KEY\"))\n",
    "\n",
    "response = client.chat.completions.create(\n",
    "    model=\"gpt-4\",\n",
    "    messages=[\n",
    "        {\"role\": \"system\", \"content\": \"You are a helpful assistant.\"},\n",
    "        {\"role\": \"user\", \"content\": prompt1},\n",
    "        {\"role\": \"user\", \"content\": prompt2},\n",
    "        {\"role\": \"user\", \"content\": prompt3},\n",
    "    ]\n",
    ")\n",
    "\n",
    "print(response.choices[0].message.content)"
   ]
  },
  {
   "cell_type": "markdown",
   "metadata": {},
   "source": [
    "### Function calling in Openai"
   ]
  },
  {
   "cell_type": "code",
   "execution_count": 6,
   "metadata": {},
   "outputs": [],
   "source": [
    "# Example dummy function hard coded to return the same weather\n",
    "# In production, this could be your backend API or an external API\n",
    "import json\n",
    "import requests\n",
    "def get_current_weather(location):\n",
    "    \"\"\"Get the current weather in a given location\"\"\"\n",
    "\n",
    "    url = \"https://ai-weather-by-meteosource.p.rapidapi.com/find_places\"\n",
    "\n",
    "    querystring = {\"text\":location}\n",
    "\n",
    "    headers = {\n",
    "      'x-rapidapi-key': \"156877d1e1msh6806b57dfec44b9p1bd2c8jsn796f2ff15790\",\n",
    "      'x-rapidapi-host': \"ai-weather-by-meteosource.p.rapidapi.com\"\n",
    "    }\n",
    "\n",
    "    response = requests.get(url, headers=headers, params=querystring)\n",
    "\n",
    "    print(response.json())\n",
    "  \n",
    "    return response.json()\n"
   ]
  },
  {
   "cell_type": "code",
   "execution_count": 7,
   "metadata": {},
   "outputs": [
    {
     "name": "stdout",
     "output_type": "stream",
     "text": [
      "[{'name': 'Delhi', 'place_id': 'delhi', 'adm_area1': 'National Capital Territory of Delhi', 'adm_area2': None, 'country': 'India', 'lat': '28.65195N', 'lon': '77.23149E', 'timezone': 'Asia/Kolkata', 'type': 'settlement'}, {'name': 'Dili', 'place_id': 'dili', 'adm_area1': 'Díli', 'adm_area2': 'Vera Cruz', 'country': 'Timor-Leste', 'lat': '8.55861S', 'lon': '125.57361E', 'timezone': 'Asia/Dili', 'type': 'settlement'}, {'name': 'Delhi', 'place_id': 'delhi-5342522', 'adm_area1': 'California', 'adm_area2': 'Merced', 'country': 'United States of America', 'lat': '37.43216N', 'lon': '120.77854W', 'timezone': 'America/Los_Angeles', 'type': 'settlement'}, {'name': 'Delhi', 'place_id': 'delhi-5114824', 'adm_area1': 'New York', 'adm_area2': 'Delaware', 'country': 'United States of America', 'lat': '42.27814N', 'lon': '74.91599W', 'timezone': 'America/New_York', 'type': 'settlement'}, {'name': 'Delhi', 'place_id': 'delhi-4321929', 'adm_area1': 'Louisiana', 'adm_area2': 'Richland', 'country': 'United States of America', 'lat': '32.45764N', 'lon': '91.49317W', 'timezone': 'America/Chicago', 'type': 'settlement'}, {'name': 'Delhi', 'place_id': 'delhi-4853722', 'adm_area1': 'Iowa', 'adm_area2': 'Delaware', 'country': 'United States of America', 'lat': '42.42971N', 'lon': '91.33098W', 'timezone': 'America/Chicago', 'type': 'settlement'}, {'name': 'Radnor', 'place_id': 'radnor-5167687', 'adm_area1': 'Ohio', 'adm_area2': 'Delaware', 'country': 'United States of America', 'lat': '40.38423N', 'lon': '83.15075W', 'timezone': 'America/New_York', 'type': 'settlement'}, {'name': 'Delhi', 'place_id': 'delhi-5024164', 'adm_area1': 'Minnesota', 'adm_area2': 'Redwood', 'country': 'United States of America', 'lat': '44.59913N', 'lon': '95.21111W', 'timezone': 'America/Chicago', 'type': 'settlement'}, {'name': 'Delhi', 'place_id': 'delhi-4685810', 'adm_area1': 'Texas', 'adm_area2': 'Caldwell', 'country': 'United States of America', 'lat': '29.82745N', 'lon': '97.39555W', 'timezone': 'America/Chicago', 'type': 'settlement'}, {'name': 'National Capital Territory of Delhi', 'place_id': 'national-capital-territory-of-delhi', 'adm_area1': 'National Capital Territory of Delhi', 'adm_area2': None, 'country': 'India', 'lat': '28.6667N', 'lon': '77.1E', 'timezone': 'Asia/Kolkata', 'type': 'administrative_area'}]\n"
     ]
    },
    {
     "data": {
      "text/plain": [
       "[{'name': 'Delhi',\n",
       "  'place_id': 'delhi',\n",
       "  'adm_area1': 'National Capital Territory of Delhi',\n",
       "  'adm_area2': None,\n",
       "  'country': 'India',\n",
       "  'lat': '28.65195N',\n",
       "  'lon': '77.23149E',\n",
       "  'timezone': 'Asia/Kolkata',\n",
       "  'type': 'settlement'},\n",
       " {'name': 'Dili',\n",
       "  'place_id': 'dili',\n",
       "  'adm_area1': 'Díli',\n",
       "  'adm_area2': 'Vera Cruz',\n",
       "  'country': 'Timor-Leste',\n",
       "  'lat': '8.55861S',\n",
       "  'lon': '125.57361E',\n",
       "  'timezone': 'Asia/Dili',\n",
       "  'type': 'settlement'},\n",
       " {'name': 'Delhi',\n",
       "  'place_id': 'delhi-5342522',\n",
       "  'adm_area1': 'California',\n",
       "  'adm_area2': 'Merced',\n",
       "  'country': 'United States of America',\n",
       "  'lat': '37.43216N',\n",
       "  'lon': '120.77854W',\n",
       "  'timezone': 'America/Los_Angeles',\n",
       "  'type': 'settlement'},\n",
       " {'name': 'Delhi',\n",
       "  'place_id': 'delhi-5114824',\n",
       "  'adm_area1': 'New York',\n",
       "  'adm_area2': 'Delaware',\n",
       "  'country': 'United States of America',\n",
       "  'lat': '42.27814N',\n",
       "  'lon': '74.91599W',\n",
       "  'timezone': 'America/New_York',\n",
       "  'type': 'settlement'},\n",
       " {'name': 'Delhi',\n",
       "  'place_id': 'delhi-4321929',\n",
       "  'adm_area1': 'Louisiana',\n",
       "  'adm_area2': 'Richland',\n",
       "  'country': 'United States of America',\n",
       "  'lat': '32.45764N',\n",
       "  'lon': '91.49317W',\n",
       "  'timezone': 'America/Chicago',\n",
       "  'type': 'settlement'},\n",
       " {'name': 'Delhi',\n",
       "  'place_id': 'delhi-4853722',\n",
       "  'adm_area1': 'Iowa',\n",
       "  'adm_area2': 'Delaware',\n",
       "  'country': 'United States of America',\n",
       "  'lat': '42.42971N',\n",
       "  'lon': '91.33098W',\n",
       "  'timezone': 'America/Chicago',\n",
       "  'type': 'settlement'},\n",
       " {'name': 'Radnor',\n",
       "  'place_id': 'radnor-5167687',\n",
       "  'adm_area1': 'Ohio',\n",
       "  'adm_area2': 'Delaware',\n",
       "  'country': 'United States of America',\n",
       "  'lat': '40.38423N',\n",
       "  'lon': '83.15075W',\n",
       "  'timezone': 'America/New_York',\n",
       "  'type': 'settlement'},\n",
       " {'name': 'Delhi',\n",
       "  'place_id': 'delhi-5024164',\n",
       "  'adm_area1': 'Minnesota',\n",
       "  'adm_area2': 'Redwood',\n",
       "  'country': 'United States of America',\n",
       "  'lat': '44.59913N',\n",
       "  'lon': '95.21111W',\n",
       "  'timezone': 'America/Chicago',\n",
       "  'type': 'settlement'},\n",
       " {'name': 'Delhi',\n",
       "  'place_id': 'delhi-4685810',\n",
       "  'adm_area1': 'Texas',\n",
       "  'adm_area2': 'Caldwell',\n",
       "  'country': 'United States of America',\n",
       "  'lat': '29.82745N',\n",
       "  'lon': '97.39555W',\n",
       "  'timezone': 'America/Chicago',\n",
       "  'type': 'settlement'},\n",
       " {'name': 'National Capital Territory of Delhi',\n",
       "  'place_id': 'national-capital-territory-of-delhi',\n",
       "  'adm_area1': 'National Capital Territory of Delhi',\n",
       "  'adm_area2': None,\n",
       "  'country': 'India',\n",
       "  'lat': '28.6667N',\n",
       "  'lon': '77.1E',\n",
       "  'timezone': 'Asia/Kolkata',\n",
       "  'type': 'administrative_area'}]"
      ]
     },
     "execution_count": 7,
     "metadata": {},
     "output_type": "execute_result"
    }
   ],
   "source": [
    "response = get_current_weather(\"delhi\")\n",
    "response"
   ]
  },
  {
   "cell_type": "code",
   "execution_count": 8,
   "metadata": {},
   "outputs": [
    {
     "data": {
      "text/plain": [
       "[{'name': 'get_current_weather',\n",
       "  'arguments': '{\"location\": \"Delhi\"}',\n",
       "  'description': 'Get the current weather in a given location',\n",
       "  'parameters': {'type': 'object',\n",
       "   'properties': {'location': {'type': 'string',\n",
       "     'description': 'The city and state, e.g. San Francisco, CA'}},\n",
       "   'required': ['location']}}]"
      ]
     },
     "execution_count": 8,
     "metadata": {},
     "output_type": "execute_result"
    }
   ],
   "source": [
    "functions = [\n",
    "        {\n",
    "            \"name\": \"get_current_weather\",\n",
    "            \"arguments\": \"{\\\"location\\\": \\\"Delhi\\\"}\",\n",
    "            \"description\": \"Get the current weather in a given location\",\n",
    "            \"parameters\": {\n",
    "                \"type\": \"object\",\n",
    "                \"properties\": {\n",
    "                    \"location\": {\n",
    "                        \"type\": \"string\",\n",
    "                        \"description\": \"The city and state, e.g. San Francisco, CA\",\n",
    "                    },\n",
    "                    \n",
    "                },\n",
    "                \"required\": [\"location\"],\n",
    "            },\n",
    "        }\n",
    "    ]\n",
    "\n",
    "functions"
   ]
  },
  {
   "cell_type": "code",
   "execution_count": 9,
   "metadata": {},
   "outputs": [
    {
     "name": "stdout",
     "output_type": "stream",
     "text": [
      "I'm an artificial intelligence and don't have feelings, but thank you for asking! How can I assist you today?\n"
     ]
    }
   ],
   "source": [
    "user_message = \"Hello how are you\"\n",
    "messages = []\n",
    "messages.append({'role':'user', 'content': user_message})\n",
    "\n",
    "\n",
    "completion = client.chat.completions.create(\n",
    "    model='gpt-4',\n",
    "    messages= messages\n",
    ")\n",
    "\n",
    "print(completion.choices[0].message.content)"
   ]
  },
  {
   "cell_type": "code",
   "execution_count": 13,
   "metadata": {},
   "outputs": [
    {
     "name": "stdout",
     "output_type": "stream",
     "text": [
      "None\n"
     ]
    }
   ],
   "source": [
    "user_message = \"what is the temperature in kerala\"\n",
    "messages.append({'role':'user', 'content':user_message})\n",
    "completion = client.chat.completions.create(\n",
    "    model='gpt-3.5-turbo',\n",
    "    messages= messages,\n",
    "    functions=functions\n",
    ")\n",
    "\n",
    "print(completion.choices[0].message.content)\n"
   ]
  },
  {
   "cell_type": "code",
   "execution_count": null,
   "metadata": {},
   "outputs": [],
   "source": []
  },
  {
   "cell_type": "code",
   "execution_count": null,
   "metadata": {},
   "outputs": [],
   "source": []
  },
  {
   "cell_type": "code",
   "execution_count": null,
   "metadata": {},
   "outputs": [],
   "source": []
  }
 ],
 "metadata": {
  "kernelspec": {
   "display_name": "ragenv",
   "language": "python",
   "name": "python3"
  },
  "language_info": {
   "codemirror_mode": {
    "name": "ipython",
    "version": 3
   },
   "file_extension": ".py",
   "mimetype": "text/x-python",
   "name": "python",
   "nbconvert_exporter": "python",
   "pygments_lexer": "ipython3",
   "version": "3.11.9"
  }
 },
 "nbformat": 4,
 "nbformat_minor": 2
}
